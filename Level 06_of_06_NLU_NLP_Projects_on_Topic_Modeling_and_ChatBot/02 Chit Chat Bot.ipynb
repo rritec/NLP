{
 "cells": [
  {
   "cell_type": "markdown",
   "metadata": {
    "colab_type": "text",
    "id": "oLVucwuAM2ZF"
   },
   "source": [
    "# ChitChat Bot\n",
    "-------------------"
   ]
  },
  {
   "cell_type": "markdown",
   "metadata": {
    "colab_type": "text",
    "id": "_kvWYfjQM2ZV"
   },
   "source": [
    "## Exercise 3:Create a bot which can answer simple questions such as \"What's your name?\" and \"What's today's weather?\"\n",
    "- You'll use a dictionary with these questions as keys, and the correct responses as values.\n",
    "- This means the bot will only respond correctly if the message `matches exactly`, which is a big limitation. In later exercises you will create much more robust solutions."
   ]
  },
  {
   "cell_type": "markdown",
   "metadata": {
    "colab_type": "text",
    "id": "U1mH2zBiM2Zd"
   },
   "source": [
    "## 1. Define variables"
   ]
  },
  {
   "cell_type": "code",
   "execution_count": 1,
   "metadata": {
    "colab": {},
    "colab_type": "code",
    "id": "QNhFUNrMM2Z3"
   },
   "outputs": [],
   "source": [
    "name = \"Greg\"\n",
    "weather = \"cloudy\""
   ]
  },
  {
   "cell_type": "markdown",
   "metadata": {
    "colab_type": "text",
    "id": "idnRbG9jM2ar"
   },
   "source": [
    "# 2. Define a `dictionary` with the predefined responses"
   ]
  },
  {
   "cell_type": "code",
   "execution_count": 2,
   "metadata": {
    "colab": {},
    "colab_type": "code",
    "id": "D5RulOGrM2az"
   },
   "outputs": [],
   "source": [
    "responses = {\n",
    "  \"what's your name?\": \"my name is {0}\".format(name),\n",
    "  \"what's today's weather?\": \"the weather is {0}\".format(weather),\n",
    "  \"default\": \"No i did not trained for it,please ask only name and weather\"\n",
    "}"
   ]
  },
  {
   "cell_type": "code",
   "execution_count": 3,
   "metadata": {
    "colab": {},
    "colab_type": "code",
    "id": "C3V72E0MM2bQ",
    "outputId": "3ad1f518-c24f-4f94-ddf5-a8e6f1ccbe8b"
   },
   "outputs": [
    {
     "data": {
      "text/plain": [
       "'my name is Greg'"
      ]
     },
     "execution_count": 3,
     "metadata": {},
     "output_type": "execute_result"
    }
   ],
   "source": [
    "# read data of dict using keys\n",
    "responses[\"what's your name?\"]"
   ]
  },
  {
   "cell_type": "markdown",
   "metadata": {
    "colab_type": "text",
    "id": "_nNxYWRIM2cE"
   },
   "source": [
    "## 3. Create a respond function"
   ]
  },
  {
   "cell_type": "code",
   "execution_count": 4,
   "metadata": {
    "colab": {},
    "colab_type": "code",
    "id": "GyEJiDMiM2cL"
   },
   "outputs": [],
   "source": [
    "# Return the matching response if there is one, default otherwise\n",
    "def respond(message): # what's your name?\n",
    "    # Check if the message is in the responses keys\n",
    "    if message in responses:\n",
    "        # Return the matching message\n",
    "        bot_message = responses[message] # responses[\"what's your name?\"] # 'my name is Greg'\n",
    "    else:\n",
    "        # Return the \"default\" message\n",
    "        bot_message = responses[\"default\"]\n",
    "    return bot_message"
   ]
  },
  {
   "cell_type": "markdown",
   "metadata": {
    "colab_type": "text",
    "id": "Z3KdfyIzM2c1"
   },
   "source": [
    "## 4. Test The Bot"
   ]
  },
  {
   "cell_type": "code",
   "execution_count": 5,
   "metadata": {
    "colab": {},
    "colab_type": "code",
    "id": "mWSWGHK1M2dG",
    "outputId": "ba43f95e-8430-401a-ffe0-8f52b8ab5972"
   },
   "outputs": [
    {
     "data": {
      "text/plain": [
       "'my name is Greg'"
      ]
     },
     "execution_count": 5,
     "metadata": {},
     "output_type": "execute_result"
    }
   ],
   "source": [
    "# Call the Functions\n",
    "respond(\"what's your name?\")"
   ]
  },
  {
   "cell_type": "code",
   "execution_count": 6,
   "metadata": {
    "colab": {},
    "colab_type": "code",
    "id": "-nzg7UXEM2dg",
    "outputId": "100ccb1b-4175-4aac-bf65-5576c9cf4b70"
   },
   "outputs": [
    {
     "data": {
      "text/plain": [
       "'the weather is cloudy'"
      ]
     },
     "execution_count": 6,
     "metadata": {},
     "output_type": "execute_result"
    }
   ],
   "source": [
    "respond(\"what's today's weather?\")"
   ]
  },
  {
   "cell_type": "code",
   "execution_count": 7,
   "metadata": {
    "colab": {},
    "colab_type": "code",
    "id": "cv-aSAacM2en",
    "outputId": "2f4b0a35-9cb8-40c2-ed91-3eb2a81564b6"
   },
   "outputs": [
    {
     "data": {
      "text/plain": [
       "'No i did not trained for it,please ask only name and weather'"
      ]
     },
     "execution_count": 7,
     "metadata": {},
     "output_type": "execute_result"
    }
   ],
   "source": [
    "respond(\"what's today's weather?_wrong\")"
   ]
  },
  {
   "cell_type": "markdown",
   "metadata": {
    "colab_type": "text",
    "id": "VBF8rQQPM2fw"
   },
   "source": [
    "# 2. Exercise 4: Adding Variety of answers "
   ]
  },
  {
   "cell_type": "code",
   "execution_count": 8,
   "metadata": {
    "colab": {},
    "colab_type": "code",
    "id": "jyJJQH7JM2f2"
   },
   "outputs": [],
   "source": [
    "# Import the random module\n",
    "import random\n",
    "name = \"Greg\"\n",
    "weather = \"cloudy\""
   ]
  },
  {
   "cell_type": "code",
   "execution_count": 9,
   "metadata": {
    "colab": {},
    "colab_type": "code",
    "id": "nZpw8m9GM2gM"
   },
   "outputs": [],
   "source": [
    "# Define a dictionary containing a list of responses for each message\n",
    "responses = {\n",
    "  \"what's your name?\": [\n",
    "      \"my name is {0}\".format(name),\n",
    "      \"they call me {0}\".format(name),\n",
    "      \"I go by {0}\".format(name)\n",
    "   ],\n",
    "  \"what's today's weather?\": [\n",
    "      \"the weather is {0}\".format(weather),\n",
    "      \"it's {0} today\".format(weather)\n",
    "    ],\n",
    "  \"default\": [\"default message\"]\n",
    "}"
   ]
  },
  {
   "cell_type": "code",
   "execution_count": 10,
   "metadata": {
    "colab": {},
    "colab_type": "code",
    "id": "MNAO1N6eM2gf",
    "outputId": "7982bc05-4eaf-4218-dead-451ba061bed0"
   },
   "outputs": [
    {
     "data": {
      "text/plain": [
       "dict_keys([\"what's your name?\", \"what's today's weather?\", 'default'])"
      ]
     },
     "execution_count": 10,
     "metadata": {},
     "output_type": "execute_result"
    }
   ],
   "source": [
    "responses.keys()"
   ]
  },
  {
   "cell_type": "code",
   "execution_count": 11,
   "metadata": {
    "colab": {},
    "colab_type": "code",
    "id": "u6-NYKBxM2g4"
   },
   "outputs": [],
   "source": [
    "# Use random.choice() to choose a matching response\n",
    "def respond(message):\n",
    "    # Check if the message is in the responses\n",
    "    if message in responses:\n",
    "        # Return a random matching response\n",
    "        bot_message = random.choice(responses[message])\n",
    "    else:\n",
    "        # Return a random \"default\" response\n",
    "        bot_message = random.choice(responses[\"default\"])\n",
    "    return bot_message\n"
   ]
  },
  {
   "cell_type": "code",
   "execution_count": 12,
   "metadata": {
    "colab": {},
    "colab_type": "code",
    "id": "kHtjABByM2hF",
    "outputId": "d4720ef1-b3d6-4402-ceb6-858267b4ad68"
   },
   "outputs": [
    {
     "data": {
      "text/plain": [
       "'I go by Greg'"
      ]
     },
     "execution_count": 12,
     "metadata": {},
     "output_type": "execute_result"
    }
   ],
   "source": [
    "# Call the Function \n",
    "respond(\"what's your name?\") # run few times and observe outputs"
   ]
  },
  {
   "cell_type": "code",
   "execution_count": 13,
   "metadata": {
    "colab": {},
    "colab_type": "code",
    "id": "zNR1PLVoM2hc",
    "outputId": "984418ab-2671-4d44-e42c-42e60ede99ba"
   },
   "outputs": [
    {
     "data": {
      "text/plain": [
       "'my name is Greg'"
      ]
     },
     "execution_count": 13,
     "metadata": {},
     "output_type": "execute_result"
    }
   ],
   "source": [
    "# Call the Function \n",
    "respond(\"what's your name?\") # run few times and observe outputs"
   ]
  },
  {
   "cell_type": "code",
   "execution_count": 14,
   "metadata": {
    "colab": {},
    "colab_type": "code",
    "id": "pYLAkAwTM2hx",
    "outputId": "face2509-25c2-4d68-87c4-54ee7ddc73d3"
   },
   "outputs": [
    {
     "data": {
      "text/plain": [
       "'I go by Greg'"
      ]
     },
     "execution_count": 14,
     "metadata": {},
     "output_type": "execute_result"
    }
   ],
   "source": [
    "# Call the Function \n",
    "respond(\"what's your name?\") # run few times and observe outputs"
   ]
  },
  {
   "cell_type": "code",
   "execution_count": 15,
   "metadata": {
    "colab": {},
    "colab_type": "code",
    "id": "5-TcxSjfM2iF",
    "outputId": "0f0a8b81-bf8e-4501-c0d2-f7c9c00975f8"
   },
   "outputs": [
    {
     "data": {
      "text/plain": [
       "'my name is Greg'"
      ]
     },
     "execution_count": 15,
     "metadata": {},
     "output_type": "execute_result"
    }
   ],
   "source": [
    "# Call the Function \n",
    "respond(\"what's your name?\") # run few times and observe outputs"
   ]
  },
  {
   "cell_type": "code",
   "execution_count": 16,
   "metadata": {
    "colab": {},
    "colab_type": "code",
    "id": "YUnw3LORM2iY",
    "outputId": "08b5a51b-cf11-4b52-b7a3-461156faeabd"
   },
   "outputs": [
    {
     "data": {
      "text/plain": [
       "'they call me Greg'"
      ]
     },
     "execution_count": 16,
     "metadata": {},
     "output_type": "execute_result"
    }
   ],
   "source": [
    "# Call the Function \n",
    "respond(\"what's your name?\") # run few times and observe outputs"
   ]
  },
  {
   "cell_type": "code",
   "execution_count": null,
   "metadata": {
    "colab": {},
    "colab_type": "code",
    "id": "avYFQsYrM2i8"
   },
   "outputs": [],
   "source": []
  }
 ],
 "metadata": {
  "colab": {
   "name": "02 Chit Chat Bot.ipynb",
   "provenance": [],
   "version": "0.3.2"
  },
  "kernelspec": {
   "display_name": "Python 3",
   "language": "python",
   "name": "python3"
  },
  "language_info": {
   "codemirror_mode": {
    "name": "ipython",
    "version": 3
   },
   "file_extension": ".py",
   "mimetype": "text/x-python",
   "name": "python",
   "nbconvert_exporter": "python",
   "pygments_lexer": "ipython3",
   "version": "3.6.9"
  }
 },
 "nbformat": 4,
 "nbformat_minor": 4
}
