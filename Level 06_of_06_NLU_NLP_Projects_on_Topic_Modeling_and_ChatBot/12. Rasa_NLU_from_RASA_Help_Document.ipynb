{
 "cells": [
  {
   "cell_type": "markdown",
   "metadata": {},
   "source": [
    "# Project Using Rasa\n",
    "------------"
   ]
  },
  {
   "cell_type": "markdown",
   "metadata": {},
   "source": [
    "## Exercise 1: Create one simple project"
   ]
  },
  {
   "cell_type": "markdown",
   "metadata": {},
   "source": [
    "1. Open **anaconda Prompt** as **Administrator**\n",
    "1. Create any one **empty folder**\n",
    "1. cd **to above folder**\n",
    "1. provide `rasa init`\n",
    "1. test it"
   ]
  },
  {
   "cell_type": "raw",
   "metadata": {},
   "source": [
    "- Please read and understand below all files from help document of rasa\n",
    "\n",
    "`\n",
    "├── __init__.py\n",
    "├── actions.py\n",
    "├── config.yml\n",
    "├── credentials.yml\n",
    "├── data\n",
    "│   ├── nlu.md\n",
    "│   └── stories.md\n",
    "├── domain.yml\n",
    "├── endpoints.yml\n",
    "└── models\n",
    "    └── <timestamp>.tar.gz\n",
    "`"
   ]
  },
  {
   "cell_type": "markdown",
   "metadata": {},
   "source": [
    "## Exercise 2: understand only NLU part\n",
    "----------------"
   ]
  },
  {
   "cell_type": "markdown",
   "metadata": {},
   "source": [
    "### Prepare your NLU Training Data (NLU.md)\n",
    "- It has intents,entities and text(training examples) in simple markdown language\n",
    "- Create a empty folder in your c drive `C:\\git\\rasa-nlu\\data`\n",
    "- download below file and place into `data`folder\n",
    "- [File 1: download the file](https://raw.githubusercontent.com/rritec/datahexa/dev/files/nlu.md)"
   ]
  },
  {
   "cell_type": "markdown",
   "metadata": {},
   "source": [
    "### Define your Machine Learning Model (config.yml)\n",
    "- define `language` and pipeline(most commonly used piplines are `spacy_sklearn` and `tensorflow_emmbeding`)\n",
    "- download below file and place into `rasa-nlu` folder\n",
    "- [File 2: download the file](https://raw.githubusercontent.com/rritec/datahexa/dev/files/nlu_config.yml)"
   ]
  },
  {
   "cell_type": "markdown",
   "metadata": {},
   "source": [
    "### 3. Train your Machine Learning NLU model\n",
    "- Open `anaconda command prompt` as administrator\n",
    "- Run below code\n",
    "``` python \n",
    "cd \"C:\\git\\rasa-nlu\"\n",
    "```\n",
    "\n",
    "`rasa train nlu`\n"
   ]
  },
  {
   "cell_type": "markdown",
   "metadata": {},
   "source": [
    "- Observe that one model folder is created with zip file\n",
    "- Extract zip file"
   ]
  },
  {
   "cell_type": "markdown",
   "metadata": {},
   "source": [
    "## 4. Try it out 😄"
   ]
  },
  {
   "cell_type": "code",
   "execution_count": 12,
   "metadata": {},
   "outputs": [],
   "source": [
    "from rasa_nlu.model import Interpreter\n",
    "import json"
   ]
  },
  {
   "cell_type": "code",
   "execution_count": 2,
   "metadata": {},
   "outputs": [],
   "source": [
    "Interpreter.load?"
   ]
  },
  {
   "cell_type": "code",
   "execution_count": 13,
   "metadata": {},
   "outputs": [
    {
     "name": "stdout",
     "output_type": "stream",
     "text": [
      "INFO:tensorflow:Restoring parameters from C:\\git\\test1\\models\\nlu\\component_5_EmbeddingIntentClassifier.ckpt\n"
     ]
    }
   ],
   "source": [
    "interpreter = Interpreter.load(\"C:\\\\git\\\\rasa-nlu\\\\models\\\\nlu\\\\\")"
   ]
  },
  {
   "cell_type": "markdown",
   "metadata": {},
   "source": [
    "### `Example 1: `"
   ]
  },
  {
   "cell_type": "code",
   "execution_count": 21,
   "metadata": {},
   "outputs": [],
   "source": [
    "message = \"let's see some indian restaurants\""
   ]
  },
  {
   "cell_type": "code",
   "execution_count": 22,
   "metadata": {},
   "outputs": [],
   "source": [
    "result = interpreter.parse(message)"
   ]
  },
  {
   "cell_type": "code",
   "execution_count": 23,
   "metadata": {},
   "outputs": [
    {
     "name": "stdout",
     "output_type": "stream",
     "text": [
      "{\n",
      "  \"intent\": {\n",
      "    \"name\": \"restaurant_search\",\n",
      "    \"confidence\": 0.87151038646698\n",
      "  },\n",
      "  \"entities\": [\n",
      "    {\n",
      "      \"start\": 15,\n",
      "      \"end\": 21,\n",
      "      \"value\": \"indian\",\n",
      "      \"entity\": \"cuisine\",\n",
      "      \"confidence\": 0.7839900898933416,\n",
      "      \"extractor\": \"CRFEntityExtractor\"\n",
      "    }\n",
      "  ],\n",
      "  \"intent_ranking\": [\n",
      "    {\n",
      "      \"name\": \"restaurant_search\",\n",
      "      \"confidence\": 0.87151038646698\n",
      "    },\n",
      "    {\n",
      "      \"name\": \"thankyou\",\n",
      "      \"confidence\": 0.21156200766563416\n",
      "    },\n",
      "    {\n",
      "      \"name\": \"greet\",\n",
      "      \"confidence\": 0.18738248944282532\n",
      "    }\n",
      "  ],\n",
      "  \"text\": \"let's see some indian restaurants\"\n",
      "}\n"
     ]
    }
   ],
   "source": [
    "print(json.dumps(result, indent=2))"
   ]
  },
  {
   "cell_type": "markdown",
   "metadata": {},
   "source": [
    "### `Example 2:`"
   ]
  },
  {
   "cell_type": "code",
   "execution_count": 17,
   "metadata": {},
   "outputs": [
    {
     "name": "stdout",
     "output_type": "stream",
     "text": [
      "{\n",
      "  \"intent\": {\n",
      "    \"name\": \"restaurant_search\",\n",
      "    \"confidence\": 0.958603024482727\n",
      "  },\n",
      "  \"entities\": [\n",
      "    {\n",
      "      \"start\": 10,\n",
      "      \"end\": 16,\n",
      "      \"value\": \"indian\",\n",
      "      \"entity\": \"cuisine\",\n",
      "      \"confidence\": 0.752710170313619,\n",
      "      \"extractor\": \"CRFEntityExtractor\"\n",
      "    },\n",
      "    {\n",
      "      \"start\": 30,\n",
      "      \"end\": 35,\n",
      "      \"value\": \"north\",\n",
      "      \"entity\": \"location\",\n",
      "      \"confidence\": 0.8005554147849003,\n",
      "      \"extractor\": \"CRFEntityExtractor\"\n",
      "    }\n",
      "  ],\n",
      "  \"intent_ranking\": [\n",
      "    {\n",
      "      \"name\": \"restaurant_search\",\n",
      "      \"confidence\": 0.958603024482727\n",
      "    },\n",
      "    {\n",
      "      \"name\": \"thankyou\",\n",
      "      \"confidence\": 0.07237518578767776\n",
      "    },\n",
      "    {\n",
      "      \"name\": \"greet\",\n",
      "      \"confidence\": 0.050249431282281876\n",
      "    }\n",
      "  ],\n",
      "  \"text\": \"show me a indian place in the north of town\"\n",
      "}\n"
     ]
    }
   ],
   "source": [
    "message = \"show me a indian place in the north of town\"\n",
    "result = interpreter.parse(message)\n",
    "print(json.dumps(result, indent=2))"
   ]
  },
  {
   "cell_type": "markdown",
   "metadata": {},
   "source": [
    "### `Example 3:`"
   ]
  },
  {
   "cell_type": "code",
   "execution_count": 18,
   "metadata": {},
   "outputs": [
    {
     "name": "stdout",
     "output_type": "stream",
     "text": [
      "{\n",
      "  \"intent\": {\n",
      "    \"name\": \"greet\",\n",
      "    \"confidence\": 0.9369837045669556\n",
      "  },\n",
      "  \"entities\": [],\n",
      "  \"intent_ranking\": [\n",
      "    {\n",
      "      \"name\": \"greet\",\n",
      "      \"confidence\": 0.9369837045669556\n",
      "    },\n",
      "    {\n",
      "      \"name\": \"thankyou\",\n",
      "      \"confidence\": 0.06358069181442261\n",
      "    },\n",
      "    {\n",
      "      \"name\": \"restaurant_search\",\n",
      "      \"confidence\": 0.0\n",
      "    }\n",
      "  ],\n",
      "  \"text\": \"hi\"\n",
      "}\n"
     ]
    }
   ],
   "source": [
    "message = \"hi\"\n",
    "result = interpreter.parse(message)\n",
    "print(json.dumps(result, indent=2))"
   ]
  },
  {
   "cell_type": "markdown",
   "metadata": {},
   "source": [
    "### ` Example 4:`"
   ]
  },
  {
   "cell_type": "code",
   "execution_count": 20,
   "metadata": {},
   "outputs": [
    {
     "name": "stdout",
     "output_type": "stream",
     "text": [
      "{\n",
      "  \"intent\": {\n",
      "    \"name\": \"restaurant_search\",\n",
      "    \"confidence\": 0.9605445265769958\n",
      "  },\n",
      "  \"entities\": [\n",
      "    {\n",
      "      \"start\": 10,\n",
      "      \"end\": 16,\n",
      "      \"value\": \"indian\",\n",
      "      \"entity\": \"cuisine\",\n",
      "      \"confidence\": 0.7527101385273939,\n",
      "      \"extractor\": \"CRFEntityExtractor\"\n",
      "    },\n",
      "    {\n",
      "      \"start\": 30,\n",
      "      \"end\": 34,\n",
      "      \"value\": \"west\",\n",
      "      \"entity\": \"location\",\n",
      "      \"confidence\": 0.6802726665845338,\n",
      "      \"extractor\": \"CRFEntityExtractor\"\n",
      "    }\n",
      "  ],\n",
      "  \"intent_ranking\": [\n",
      "    {\n",
      "      \"name\": \"restaurant_search\",\n",
      "      \"confidence\": 0.9605445265769958\n",
      "    },\n",
      "    {\n",
      "      \"name\": \"thankyou\",\n",
      "      \"confidence\": 0.10062383115291595\n",
      "    },\n",
      "    {\n",
      "      \"name\": \"greet\",\n",
      "      \"confidence\": 0.04284985736012459\n",
      "    }\n",
      "  ],\n",
      "  \"text\": \"show me a indian place in the west of town\"\n",
      "}\n"
     ]
    }
   ],
   "source": [
    "message = \"show me a indian place in the west of town\"\n",
    "result = interpreter.parse(message)\n",
    "print(json.dumps(result, indent=2))"
   ]
  },
  {
   "cell_type": "code",
   "execution_count": null,
   "metadata": {},
   "outputs": [],
   "source": []
  },
  {
   "cell_type": "code",
   "execution_count": null,
   "metadata": {},
   "outputs": [],
   "source": []
  },
  {
   "cell_type": "code",
   "execution_count": null,
   "metadata": {},
   "outputs": [],
   "source": []
  },
  {
   "cell_type": "code",
   "execution_count": null,
   "metadata": {},
   "outputs": [],
   "source": []
  }
 ],
 "metadata": {
  "kernelspec": {
   "display_name": "Python 3",
   "language": "python",
   "name": "python3"
  },
  "language_info": {
   "codemirror_mode": {
    "name": "ipython",
    "version": 3
   },
   "file_extension": ".py",
   "mimetype": "text/x-python",
   "name": "python",
   "nbconvert_exporter": "python",
   "pygments_lexer": "ipython3",
   "version": "3.6.9"
  }
 },
 "nbformat": 4,
 "nbformat_minor": 4
}
