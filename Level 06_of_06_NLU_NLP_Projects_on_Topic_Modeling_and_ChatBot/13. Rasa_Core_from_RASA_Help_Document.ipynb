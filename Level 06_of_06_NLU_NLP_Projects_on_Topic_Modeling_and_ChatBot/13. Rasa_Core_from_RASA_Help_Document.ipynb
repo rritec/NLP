{
 "cells": [
  {
   "cell_type": "markdown",
   "metadata": {},
   "source": [
    "# Rasa Core Understanding\n",
    "------------\n"
   ]
  },
  {
   "cell_type": "markdown",
   "metadata": {},
   "source": [
    "## 1. Write Stories and NLU Files \n",
    "-----------\n",
    "- Create one `empty folder` in my case i created `C:\\git\\rasa-core\\data`\n",
    "- download below files and paste into `data` folder\n",
    "- `Stories File:`  [File 1: download the file](https://raw.githubusercontent.com/rritec/datahexa/dev/files/core/stories.md)\n",
    "- `NLU file: ` [File 2: download the file](https://raw.githubusercontent.com/rritec/datahexa/dev/files/core/nlu.md)"
   ]
  },
  {
   "cell_type": "markdown",
   "metadata": {},
   "source": [
    "## 2. Define a Domain and config files\n",
    "_______________\n",
    "\n",
    "- download and place domain file and config file  in `rasa-core` folder\n",
    "- `domain.yml file : `[File 3: download the file](https://raw.githubusercontent.com/rritec/datahexa/dev/files/core/domain.yml)\n",
    "-  `config file : ` [File 4: download the file](https://raw.githubusercontent.com/rritec/datahexa/master/files/core/config.yml)"
   ]
  },
  {
   "cell_type": "markdown",
   "metadata": {},
   "source": [
    "## 3. Train a Dialogue Model\n",
    "------------------\n"
   ]
  },
  {
   "cell_type": "markdown",
   "metadata": {},
   "source": [
    "- Open `anaconda command` prompt as administrator\n",
    "- Run below code\n",
    "``` python \n",
    "cd \"C:\\git\\rasa-core\"\n",
    "```\n",
    "\n",
    "``` python \n",
    "rasa train\n",
    "```\n"
   ]
  },
  {
   "cell_type": "markdown",
   "metadata": {},
   "source": [
    "## 4. Talking To Your Bot 😄\n",
    "________________________________________________"
   ]
  },
  {
   "cell_type": "markdown",
   "metadata": {},
   "source": [
    "- Open `anaconda command prompt` as administrator\n",
    "- Run below code\n",
    "``` python \n",
    "cd \"C:\\git\\rasa-core\"\n",
    "```\n",
    "\n",
    "\n",
    "``` python \n",
    "rasa shell\n",
    "```\n"
   ]
  },
  {
   "cell_type": "markdown",
   "metadata": {},
   "source": [
    "> **Note :** test all 4 stories one by one\n",
    "![observe screen](https://github.com/rritec/datahexa/blob/master/images/nlp/rasa_testing.png?raw=true)"
   ]
  },
  {
   "cell_type": "markdown",
   "metadata": {},
   "source": [
    "- Once testing completed type `/stop` so that 5005 port will be free and server is stopped"
   ]
  },
  {
   "cell_type": "code",
   "execution_count": null,
   "metadata": {},
   "outputs": [],
   "source": []
  }
 ],
 "metadata": {
  "kernelspec": {
   "display_name": "Python 3",
   "language": "python",
   "name": "python3"
  },
  "language_info": {
   "codemirror_mode": {
    "name": "ipython",
    "version": 3
   },
   "file_extension": ".py",
   "mimetype": "text/x-python",
   "name": "python",
   "nbconvert_exporter": "python",
   "pygments_lexer": "ipython3",
   "version": "3.6.9"
  }
 },
 "nbformat": 4,
 "nbformat_minor": 2
}
