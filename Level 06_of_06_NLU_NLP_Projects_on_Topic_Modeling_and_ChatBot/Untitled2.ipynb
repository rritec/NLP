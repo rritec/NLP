{
 "cells": [
  {
   "cell_type": "markdown",
   "metadata": {},
   "source": [
    "# Understand dialog flow alarm "
   ]
  },
  {
   "cell_type": "markdown",
   "metadata": {},
   "source": [
    "- open https://dialogflow.com/\n",
    "- signin using your gmail id\n",
    "- Click on **Go to Console**\n",
    "- create new agent with the name of **alarm_test**\n",
    "- Click on **prebuilt agents**\n",
    "- click on **import**\n",
    "- Prepare a excel with Intent/Training Example/Entities\n"
   ]
  },
  {
   "cell_type": "code",
   "execution_count": null,
   "metadata": {},
   "outputs": [],
   "source": []
  }
 ],
 "metadata": {
  "kernelspec": {
   "display_name": "Python 3",
   "language": "python",
   "name": "python3"
  },
  "language_info": {
   "codemirror_mode": {
    "name": "ipython",
    "version": 3
   },
   "file_extension": ".py",
   "mimetype": "text/x-python",
   "name": "python",
   "nbconvert_exporter": "python",
   "pygments_lexer": "ipython3",
   "version": "3.6.9"
  }
 },
 "nbformat": 4,
 "nbformat_minor": 4
}
