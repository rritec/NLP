{
 "cells": [
  {
   "cell_type": "markdown",
   "metadata": {},
   "source": [
    "# Medicare Locator Project\n",
    "-------------"
   ]
  },
  {
   "cell_type": "markdown",
   "metadata": {},
   "source": [
    "## Step 1: Create New environment with python 3.6 version"
   ]
  },
  {
   "cell_type": "markdown",
   "metadata": {},
   "source": [
    "* Open `anaconda Prompt as administrator` and run below commands\n",
    "\n",
    "    `conda create -n medicarelocator\n",
    "    conda activate medicarelocator\n",
    "    conda install python=3.6`\n"
   ]
  },
  {
   "cell_type": "markdown",
   "metadata": {},
   "source": [
    "## Step 2: Observe the project files from our google drive"
   ]
  },
  {
   "cell_type": "markdown",
   "metadata": {},
   "source": [
    "* change directory\n",
    "\n",
    "    `cd C:\\Users\\ramreddymyla\\Google Drive\\01 DS ML DL NLP and AI With Python Lab Copy\\03 Jupyter Notebooks\\Level 06_of_06_NLU_NLP_Projects_on_Topic_Modeling_and_ChatBot\\medicare_locator`\n",
    "\n"
   ]
  },
  {
   "cell_type": "markdown",
   "metadata": {},
   "source": [
    "## Step 3: Install Required packages"
   ]
  },
  {
   "cell_type": "markdown",
   "metadata": {},
   "source": [
    "* Make sure anaconda prompt is opened with `admin` permissions\n",
    "* In below installation rasa sdk version is known error, do not worry about it. Your code works well\n",
    "\n",
    "    `pip install -r requirements.txt\n",
    "    python -m spacy download en`\n"
   ]
  },
  {
   "cell_type": "markdown",
   "metadata": {},
   "source": [
    "## Step 4: install make file"
   ]
  },
  {
   "cell_type": "markdown",
   "metadata": {},
   "source": [
    "* Download and install `gnuwin32` software  complete package http://gnuwin32.sourceforge.net/packages/make.htm\n",
    "* Add this path to system `environment system variable`(example C:\\Program Files (x86)\\GnuWin32\\bin)\n",
    "    * right click on This PC --> Properties --> Advanced System Settings--> environment variable--> under system Variables --> click on new add the path as for your PC"
   ]
  },
  {
   "cell_type": "markdown",
   "metadata": {},
   "source": [
    "## Step 5: 🤖 How to run Medicare Locator\n",
    "\n",
    "**Step 1**: Train the core model by running:\n",
    "\n",
    "`make train-core`\n",
    "\n",
    "This will train the Rasa Core model and store it inside the `/models/current/dialogue` folder of your project directory.\n",
    "\n",
    "**Step 2**: Train the NLU model by running:\n",
    "\n",
    "```make train-nlu```\n",
    "\n",
    "This will train the NLU model and store it inside the `/models/current/nlu` folder of your project directory.\n",
    "\n",
    "**Step 3**: In a new terminal start the server for the custom action by running:\n",
    "\n",
    "```make action-server```\n",
    "\n",
    "once completed check `health status` using http://localhost:5055/health\n",
    "\n",
    "**Step 4**: Now to test the Medicare Locator with both these models you can run:\n",
    "\n",
    "```make cmdline```\n",
    "\n",
    "After the bot has loaded you can start chatting to it. If you start by saying `Hi` for example,\n",
    "the bot will reply by asking you what you are looking for and show you a number of options in form of buttons.\n",
    "Since those buttons do not show when testing the bot in the command line, you can imitate a button click by copy\n",
    "and pasting the intent of the button of your choice as your input.\n",
    "\n",
    "An example conversation in the command line could look something like this:\n",
    "```\n",
    "Your input ->  Hi\n",
    "Hi. What are you looking for ?\n",
    "Buttons:\n",
    "1: Hospital (/inform{\"selected_type_slot\": \"rbry-mqwu\"})\n",
    "2: Nursing Home (/inform{\"selected_type_slot\": \"b27b-2uc7\"})\n",
    "3: Home Health Agency (/inform{\"selected_type_slot\": \"9wzi-peqs\"})\n",
    "Your input ->  /inform{\"selected_type_slot\": \"rbry-mqwu\"}\n",
    "What is you current city?\n",
    "Your input ->  Seattle\n",
    "...\n",
    "```\n",
    "\n",
    "Try out different conversations and see what the current state of the bot can do!\n",
    "After playing around a bit you can try to modify and extend the bot by adding custom actions and intents for example.\n",
    "Find help for this in the [Rasa Docs](https://rasa.com/docs/).\n",
    "\n",
    "A helpful option to extend training data and get to know your bot is interactive learning,\n",
    "here you can correct your bot at every step in the conversation and automatically save the data for future training.\n",
    "\n",
    "**Step 5**: To run Medicare Locator in interactive learning mode run:\n",
    "\n",
    "```make interactive```\n",
    "\n",
    "## Step 6: 📱 Use Telegram as Chat platform\n",
    "In order to chat to the Medicare Locator through Telegram you can do the following:\n",
    "\n",
    "**Step 1**: First if you don't already use Telegram, download it and set it up with your phone.\n",
    "Once you are registered with Telegram you start by setting up a Telegram bot.\n",
    "\n",
    "**Step 2**: To setup your own bot go to the [Telegram BotFather](https://web.telegram.org/#/im?p=@BotFather),\n",
    "enter `/newbot` and follow the instructions.\n",
    "You should get your `access_token`, and the username you set will be your `verify`. Save this information as you will need it later.\n",
    "\n",
    "**Step 3**: Now you will need to connect to Telegram via a webhook. To create a local webhook from your machine you can use [Ngrok](https://ngrok.com/). Follow the instructions on their site to\n",
    "set it up on your computer. Move `ngrok` to your working directory and in a new terminal run:\n",
    "`\n",
    "ngrok http 5005\n",
    "`\n",
    "Ngrok will create a https address for your computer. For Telegram you need the address in this format:\n",
    "`https://xxxxxx.ngrok.io/webhooks/telegram/webhook`\n",
    "\n",
    "**Step 4**: Go to the *credentials.yml* file that you downloaded from the repo and input your personal `access_token`, `verify` and `webhook_url`.\n",
    "You will have to update the `webhook_url` everytime you do redo Step 3, the `access_token` and `verify` will stay the same.\n",
    "\n",
    "**Step 5**: In a new terminal start the server for the custom action by running:\n",
    "\n",
    "```make action-server```\n",
    "\n",
    "\n",
    "**Step 6**: In a new terminal connect to Telegram by running:\n",
    "\n",
    "```make telegram```\n",
    "\n",
    "\n",
    "**Step 7**: Now you and anyone on Telegram are able to chat to your bot. You can find it by searching for its name on Telegram.\n",
    "\n",
    "Detailed information about this can also be found in the [Rasa Docs](https://rasa.com/docs/core/connectors/#telegram-connector).\n",
    "\n",
    "\n"
   ]
  },
  {
   "cell_type": "markdown",
   "metadata": {},
   "source": [
    "=============================😀😀😀😀😀 The End 😀😀😀😀😀  ===========================\n",
    "## More about the Medicare Locator demo bot\n",
    "There are some custom actions that require connections to external services,\n",
    "specifically `FacilityForm` and `FindHealthCareAddress`. These two actions\n",
    "connect to Medicare APIs. These APIs do not require tokens or any form of authentication.\n",
    "\n",
    "For more information about Medicare APIs please visit [data.medicare.gov](https://data.medicare.gov/)\n",
    "\n",
    "If you would like to run Medicare Locator on your website, follow the instructions\n",
    "[here](https://github.com/mrbot-ai/rasa-webchat) to place the chat widget on\n",
    "your website.\n",
    "\n",
    "\n",
    "## 👩‍💻 Overview of the files\n",
    "\n",
    "`data/core/` - contains stories for Rasa Core\n",
    "\n",
    "`data/nlu_data.md` - contains example NLU training data\n",
    "\n",
    "`actions.py` - contains custom action/api code\n",
    "\n",
    "`domain.yml` - the domain file for Core\n",
    "\n",
    "`nlu_config.yml` - the NLU config file\n",
    "\n",
    "`core_config.yml` - the Core config file\n",
    "\n",
    "`credentials.yml` - contains credentials for the use with Telegram\n",
    "\n",
    "`endpoints.yml` - contains url for endpoint\n",
    "\n",
    "## 🛠 Makefile overview\n",
    "Run `make help` to see an overview of all make commands available.\n",
    "\n",
    "`train-nlu` - Train the NLU model.\n",
    "\n",
    "`train-core` - Train the Core model.\n",
    "\n",
    "`interactive` - Run the Medicare Locator interactive learning mode.\n",
    "\n",
    "`cmdline` - Run the bot on the command line.\n",
    "\n",
    "`action-server` - Start the action server.\n",
    "\n",
    "`telegram` - Run the bot in the Telegram channel.\n",
    "\n"
   ]
  },
  {
   "cell_type": "markdown",
   "metadata": {},
   "source": [
    "# Home Work:\n",
    "- please do one more project by cloneing the git repo\n",
    "https://github.com/RasaHQ/rasa-demo"
   ]
  },
  {
   "cell_type": "code",
   "execution_count": null,
   "metadata": {},
   "outputs": [],
   "source": []
  }
 ],
 "metadata": {
  "kernelspec": {
   "display_name": "Python 3",
   "language": "python",
   "name": "python3"
  },
  "language_info": {
   "codemirror_mode": {
    "name": "ipython",
    "version": 3
   },
   "file_extension": ".py",
   "mimetype": "text/x-python",
   "name": "python",
   "nbconvert_exporter": "python",
   "pygments_lexer": "ipython3",
   "version": "3.6.9"
  }
 },
 "nbformat": 4,
 "nbformat_minor": 4
}
