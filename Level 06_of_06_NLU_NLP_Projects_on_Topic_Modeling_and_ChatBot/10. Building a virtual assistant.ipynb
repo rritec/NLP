{
 "cells": [
  {
   "cell_type": "markdown",
   "metadata": {},
   "source": [
    "# Building a virtual assistant\n",
    "---------------"
   ]
  },
  {
   "cell_type": "markdown",
   "metadata": {},
   "source": [
    "- In this chapter, you're going to build a personal assistant to help **plan a trip**.\n",
    "- It will be able to respond to questions like \"are there any cheap hotels in the north of town?\" by looking inside a `hotels database` for matching results"
   ]
  },
  {
   "cell_type": "markdown",
   "metadata": {},
   "source": [
    "## 1. Access data from any DB with parameters(Here iam using Sqlite)\n",
    "1.\tCan you name some common chatbot use cases:\n",
    "    - Scheduling a meeting\n",
    "    - Booking a flight\n",
    "    - Searching for a restaurant\n",
    "2.\tChatbots require information so need to interact with **DataBases** or **APIs**"
   ]
  },
  {
   "cell_type": "markdown",
   "metadata": {},
   "source": [
    "## 2. Exercise 1: SQL statements in Python"
   ]
  },
  {
   "cell_type": "code",
   "execution_count": 2,
   "metadata": {},
   "outputs": [],
   "source": [
    "import os\n",
    "os.chdir(\"C:\\\\Users\\\\ramreddymyla\\\\Google Drive\\\\01 DS ML DL NLP and AI With Python Lab Copy\\\\02 Lab Data\\\\Python\")"
   ]
  },
  {
   "cell_type": "code",
   "execution_count": 1,
   "metadata": {},
   "outputs": [
    {
     "name": "stdout",
     "output_type": "stream",
     "text": [
      "               name price    area  stars\n",
      "0    Hotel for Dogs   mid    east      3\n",
      "1  Hotel California   mid   north      3\n",
      "2       Grand Hotel    hi   south      5\n",
      "3      Cozy Cottage    lo   south      2\n",
      "4         Ben's BnB    hi   north      4\n",
      "5         The Grand    hi    west      5\n",
      "6     Central Rooms   mid  center      3\n"
     ]
    }
   ],
   "source": [
    "# Step 1 of 7: Import required packages\n",
    "from sqlalchemy import create_engine ; \n",
    "import pandas as pd ;\n",
    "\n",
    "# Step 2 of 7: Create engine: engine\n",
    "engine = create_engine('sqlite:///data/hotels.db') \n",
    "\n",
    "# Step 3 of 7: Open engine connection\n",
    "con = engine.connect()\n",
    "\n",
    "# Step 4 of 7: Perform query: result\n",
    "result = con.execute(\"SELECT * FROM hotels\") \n",
    "\n",
    "# Step 5 of 7: Save results of the query to DataFrame: df\n",
    "df = pd.DataFrame(result.fetchall(),columns = result.keys())\n",
    "\n",
    "# Step 6 of 7: Close connection\n",
    "con.close() \n",
    "\n",
    "# Step 7 of 7: Print head of DataFrame df \n",
    "print(df)"
   ]
  },
  {
   "cell_type": "markdown",
   "metadata": {},
   "source": [
    "> **or**"
   ]
  },
  {
   "cell_type": "code",
   "execution_count": 2,
   "metadata": {},
   "outputs": [
    {
     "data": {
      "text/plain": [
       "[('Grand Hotel', 'hi', 'south', 5)]"
      ]
     },
     "execution_count": 2,
     "metadata": {},
     "output_type": "execute_result"
    }
   ],
   "source": [
    "# Step 1 of 5: Import module sqlite3\n",
    "import sqlite3\n",
    "# Step 2 of 5: Open connection to DB\n",
    "conn = sqlite3.connect('data/hotels.db')\n",
    "# Step 3 of 5: Create a cursor\n",
    "con = conn.cursor()\n",
    "# Step 4 of 5: Execute the query\n",
    "con.execute(\"SELECT * FROM hotels WHERE area='south' and price='hi'\")\n",
    "# Step 5 of 5: Print the results\n",
    "con.fetchall()"
   ]
  },
  {
   "cell_type": "markdown",
   "metadata": {},
   "source": [
    "## 3. Exercise 2: SQL statements in Python parameter passing"
   ]
  },
  {
   "cell_type": "code",
   "execution_count": 5,
   "metadata": {},
   "outputs": [
    {
     "name": "stdout",
     "output_type": "stream",
     "text": [
      "[('Grand Hotel', 'hi', 'south', 5)]\n"
     ]
    }
   ],
   "source": [
    "# Step 1 of 6: Import module sqlite3\n",
    "import sqlite3\n",
    "# Step 2 of 6: Open connection to DB\n",
    "conn = sqlite3.connect('hotels.db')\n",
    "# Step 3 of 6: Create a cursor\n",
    "c = conn.cursor()\n",
    "# Step 4 of 6: Define area and price parameters\n",
    "par_area, par_price = \"south\", \"hi\"\n",
    "t = (par_area, par_price)\n",
    "# Step 5 of 6: Execute the query\n",
    "c.execute('SELECT * FROM hotels WHERE area=? AND price=?', t)\n",
    "# Step 6 of 6: Print the results\n",
    "print(c.fetchall())"
   ]
  },
  {
   "cell_type": "code",
   "execution_count": null,
   "metadata": {},
   "outputs": [],
   "source": []
  }
 ],
 "metadata": {
  "kernelspec": {
   "display_name": "Python 3",
   "language": "python",
   "name": "python3"
  },
  "language_info": {
   "codemirror_mode": {
    "name": "ipython",
    "version": 3
   },
   "file_extension": ".py",
   "mimetype": "text/x-python",
   "name": "python",
   "nbconvert_exporter": "python",
   "pygments_lexer": "ipython3",
   "version": "3.6.9"
  }
 },
 "nbformat": 4,
 "nbformat_minor": 4
}
