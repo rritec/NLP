{
 "cells": [
  {
   "cell_type": "markdown",
   "metadata": {
    "colab_type": "text",
    "id": "P9bHlqH4usX8"
   },
   "source": [
    "# Intents and classification"
   ]
  },
  {
   "cell_type": "markdown",
   "metadata": {
    "colab_type": "text",
    "id": "DaN2rIWMusX9"
   },
   "source": [
    "1.\tSupervised Learning\n",
    "    - A classifier predicts the intent label for a given sentence\n",
    "    - 'Fit' classifier by tuning it on training data\n",
    "    - Evaluate performance on test data\n",
    "    - Accuracy: the fraction of labels we predict correctly\n",
    "2.\tNeed to write algorithms using sklearn svm …etc . we will do later"
   ]
  },
  {
   "cell_type": "code",
   "execution_count": 0,
   "metadata": {
    "colab": {},
    "colab_type": "code",
    "id": "QNUD9XpousX_"
   },
   "outputs": [],
   "source": []
  }
 ],
 "metadata": {
  "colab": {
   "name": "06. Intents and classification.ipynb",
   "provenance": [],
   "version": "0.3.2"
  },
  "kernelspec": {
   "display_name": "Python 3",
   "language": "python",
   "name": "python3"
  },
  "language_info": {
   "codemirror_mode": {
    "name": "ipython",
    "version": 3
   },
   "file_extension": ".py",
   "mimetype": "text/x-python",
   "name": "python",
   "nbconvert_exporter": "python",
   "pygments_lexer": "ipython3",
   "version": "3.6.9"
  }
 },
 "nbformat": 4,
 "nbformat_minor": 1
}
