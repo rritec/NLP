{
 "cells": [
  {
   "cell_type": "code",
   "execution_count": 1,
   "metadata": {},
   "outputs": [],
   "source": [
    "a={\n",
    "  \"intent\": {\n",
    "    \"name\": \"restaurant_search\",\n",
    "    \"confidence\": 0.9664635062217712\n",
    "  },\n",
    "  \"entities\": [\n",
    "    {\n",
    "      \"start\": 10,\n",
    "      \"end\": 11,\n",
    "      \"value\": \"5\",\n",
    "      \"entity\": \"stars\",\n",
    "      \"confidence\": 0.994618347140683,\n",
    "      \"extractor\": \"CRFEntityExtractor\"\n",
    "    },\n",
    "    {\n",
    "      \"start\": 30,\n",
    "      \"end\": 34,\n",
    "      \"value\": \"west\",\n",
    "      \"entity\": \"area\",\n",
    "      \"confidence\": 0.9111861115971476,\n",
    "      \"extractor\": \"CRFEntityExtractor\"\n",
    "    }\n",
    "  ],\n",
    "  \"intent_ranking\": [\n",
    "    {\n",
    "      \"name\": \"restaurant_search\",\n",
    "      \"confidence\": 0.9664635062217712\n",
    "    },\n",
    "    {\n",
    "      \"name\": \"affirm\",\n",
    "      \"confidence\": 0.06291888654232025\n",
    "    },\n",
    "    {\n",
    "      \"name\": \"greet\",\n",
    "      \"confidence\": 0.0\n",
    "    },\n",
    "    {\n",
    "      \"name\": \"goodbye\",\n",
    "      \"confidence\": 0.0\n",
    "    }\n",
    "  ],\n",
    "  \"text\": \"I want an 5 star hotel in the west of town\"\n",
    "}"
   ]
  },
  {
   "cell_type": "code",
   "execution_count": 2,
   "metadata": {},
   "outputs": [
    {
     "data": {
      "text/plain": [
       "dict"
      ]
     },
     "execution_count": 2,
     "metadata": {},
     "output_type": "execute_result"
    }
   ],
   "source": [
    "type(a)"
   ]
  },
  {
   "cell_type": "code",
   "execution_count": 3,
   "metadata": {},
   "outputs": [
    {
     "data": {
      "text/plain": [
       "dict_keys(['intent', 'entities', 'intent_ranking', 'text'])"
      ]
     },
     "execution_count": 3,
     "metadata": {},
     "output_type": "execute_result"
    }
   ],
   "source": [
    "a.keys()"
   ]
  },
  {
   "cell_type": "code",
   "execution_count": 7,
   "metadata": {},
   "outputs": [
    {
     "data": {
      "text/plain": [
       "'5'"
      ]
     },
     "execution_count": 7,
     "metadata": {},
     "output_type": "execute_result"
    }
   ],
   "source": [
    "a[\"entities\"][0][\"value\"]"
   ]
  },
  {
   "cell_type": "code",
   "execution_count": null,
   "metadata": {},
   "outputs": [],
   "source": []
  }
 ],
 "metadata": {
  "kernelspec": {
   "display_name": "Python 3",
   "language": "python",
   "name": "python3"
  },
  "language_info": {
   "codemirror_mode": {
    "name": "ipython",
    "version": 3
   },
   "file_extension": ".py",
   "mimetype": "text/x-python",
   "name": "python",
   "nbconvert_exporter": "python",
   "pygments_lexer": "ipython3",
   "version": "3.6.9"
  }
 },
 "nbformat": 4,
 "nbformat_minor": 4
}
