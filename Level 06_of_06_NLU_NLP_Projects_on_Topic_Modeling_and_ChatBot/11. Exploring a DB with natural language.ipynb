{
 "cells": [
  {
   "cell_type": "markdown",
   "metadata": {},
   "source": [
    "# Exploring a DB with natural language\n",
    "--------"
   ]
  },
  {
   "cell_type": "markdown",
   "metadata": {},
   "source": [
    "## 1. What we learned in last class, Let us recall\n",
    "- Understanding data of hotels db\n",
    "- creating interpreter"
   ]
  },
  {
   "cell_type": "code",
   "execution_count": 1,
   "metadata": {},
   "outputs": [],
   "source": [
    "import os\n",
    "os.chdir(\"C:\\\\Users\\\\ramreddymyla\\\\Google Drive\\\\01 DS ML DL NLP and AI With Python Lab Copy\\\\02 Lab Data\\\\Python\")"
   ]
  },
  {
   "cell_type": "code",
   "execution_count": 2,
   "metadata": {},
   "outputs": [
    {
     "name": "stdout",
     "output_type": "stream",
     "text": [
      "               name price    area  stars\n",
      "0    Hotel for Dogs   mid    east      3\n",
      "1  Hotel California   mid   north      3\n",
      "2       Grand Hotel    hi   south      5\n",
      "3      Cozy Cottage    lo   south      2\n",
      "4         Ben's BnB    hi   north      4\n",
      "5         The Grand    hi    west      5\n",
      "6     Central Rooms   mid  center      3\n"
     ]
    }
   ],
   "source": [
    "# Step 1 of 7: Import required packages\n",
    "from sqlalchemy import create_engine ; import pandas as pd ;\n",
    "# Step 2 of 7: Create engine: engine\n",
    "engine = create_engine('sqlite:///data/hotels.db') \n",
    "# Step 3 of 7: Open engine connection\n",
    "con = engine.connect()\n",
    "# Step 4 of 7: Perform query: result\n",
    "result = con.execute(\"SELECT * FROM hotels\") \n",
    "# Step 5 of 7: Save results of the query to DataFrame: df\n",
    "df = pd.DataFrame(result.fetchall(),columns = result.keys())\n",
    "# Step 6 of 7: Close connection\n",
    "con.close() \n",
    "# Step 7 of 7: Print head of DataFrame df \n",
    "print(df)"
   ]
  },
  {
   "cell_type": "code",
   "execution_count": 3,
   "metadata": {},
   "outputs": [
    {
     "name": "stderr",
     "output_type": "stream",
     "text": [
      "C:\\Users\\ramreddymyla\\Anaconda3\\envs\\rasax\\lib\\site-packages\\rasa_nlu\\__init__.py:12: UserWarning: The 'rasa_nlu' package has been renamed. You should change your imports to use 'rasa.nlu' instead.\n",
      "  UserWarning,\n",
      "You have specified the pipeline template 'tensorflow_embedding' which has been renamed to 'supervised_embeddings'. Please update your code as it will no longer work with future versions of Rasa NLU.\n",
      "C:\\Users\\ramreddymyla\\Anaconda3\\envs\\rasax\\lib\\site-packages\\rasa\\nlu\\training_data\\training_data.py:209: UserWarning: Entity '' has only 1 training examples! minimum is 2, training may fail.\n",
      "  \"\".format(entity_type, count, self.MIN_EXAMPLES_PER_ENTITY)\n"
     ]
    },
    {
     "name": "stdout",
     "output_type": "stream",
     "text": [
      "WARNING:tensorflow:From C:\\Users\\ramreddymyla\\Anaconda3\\envs\\rasax\\lib\\site-packages\\rasa\\nlu\\classifiers\\embedding_intent_classifier.py:290: dense (from tensorflow.python.layers.core) is deprecated and will be removed in a future version.\n",
      "Instructions for updating:\n",
      "Use keras.layers.dense instead.\n",
      "WARNING:tensorflow:From C:\\Users\\ramreddymyla\\Anaconda3\\envs\\rasax\\lib\\site-packages\\tensorflow\\python\\framework\\op_def_library.py:263: colocate_with (from tensorflow.python.framework.ops) is deprecated and will be removed in a future version.\n",
      "Instructions for updating:\n",
      "Colocations handled automatically by placer.\n",
      "WARNING:tensorflow:From C:\\Users\\ramreddymyla\\Anaconda3\\envs\\rasax\\lib\\site-packages\\rasa\\nlu\\classifiers\\embedding_intent_classifier.py:292: dropout (from tensorflow.python.layers.core) is deprecated and will be removed in a future version.\n",
      "Instructions for updating:\n",
      "Use keras.layers.dropout instead.\n",
      "WARNING:tensorflow:From C:\\Users\\ramreddymyla\\Anaconda3\\envs\\rasax\\lib\\site-packages\\tensorflow\\python\\keras\\layers\\core.py:143: calling dropout (from tensorflow.python.ops.nn_ops) with keep_prob is deprecated and will be removed in a future version.\n",
      "Instructions for updating:\n",
      "Please use `rate` instead of `keep_prob`. Rate should be set to `rate = 1 - keep_prob`.\n",
      "WARNING:tensorflow:From C:\\Users\\ramreddymyla\\Anaconda3\\envs\\rasax\\lib\\site-packages\\tensorflow\\python\\ops\\math_ops.py:3066: to_int32 (from tensorflow.python.ops.math_ops) is deprecated and will be removed in a future version.\n",
      "Instructions for updating:\n",
      "Use tf.cast instead.\n",
      "WARNING:tensorflow:From C:\\Users\\ramreddymyla\\Anaconda3\\envs\\rasax\\lib\\site-packages\\tensorflow\\python\\ops\\math_grad.py:102: div (from tensorflow.python.ops.math_ops) is deprecated and will be removed in a future version.\n",
      "Instructions for updating:\n",
      "Deprecated in favor of operator or tf.math.divide.\n"
     ]
    },
    {
     "name": "stderr",
     "output_type": "stream",
     "text": [
      "Epochs: 100%|██████████| 300/300 [00:25<00:00, 11.64it/s, loss=0.007, acc=1.000]\n"
     ]
    }
   ],
   "source": [
    "from rasa_nlu.training_data import load_data\n",
    "from rasa_nlu.config import RasaNLUModelConfig\n",
    "from rasa_nlu.model import Trainer\n",
    "# Create args dictionary\n",
    "args = {\"pipeline\":\"tensorflow_embedding\"}\n",
    "# Create a configuration and trainer\n",
    "config = RasaNLUModelConfig(configuration_values=args)\n",
    "trainer = Trainer(config)\n",
    "# Load the training data\n",
    "training_data = load_data(\"data/Hotels_DB_NLU.json\")\n",
    "# Create an interpreter by training the model\n",
    "interpreter = trainer.train(training_data)"
   ]
  },
  {
   "cell_type": "code",
   "execution_count": 4,
   "metadata": {},
   "outputs": [
    {
     "name": "stdout",
     "output_type": "stream",
     "text": [
      "{\n",
      "  \"intent\": {\n",
      "    \"name\": \"restaurant_search\",\n",
      "    \"confidence\": 0.9664635062217712\n",
      "  },\n",
      "  \"entities\": [\n",
      "    {\n",
      "      \"start\": 10,\n",
      "      \"end\": 11,\n",
      "      \"value\": \"5\",\n",
      "      \"entity\": \"stars\",\n",
      "      \"confidence\": 0.994618347140683,\n",
      "      \"extractor\": \"CRFEntityExtractor\"\n",
      "    },\n",
      "    {\n",
      "      \"start\": 30,\n",
      "      \"end\": 34,\n",
      "      \"value\": \"west\",\n",
      "      \"entity\": \"area\",\n",
      "      \"confidence\": 0.9111861115971476,\n",
      "      \"extractor\": \"CRFEntityExtractor\"\n",
      "    }\n",
      "  ],\n",
      "  \"intent_ranking\": [\n",
      "    {\n",
      "      \"name\": \"restaurant_search\",\n",
      "      \"confidence\": 0.9664635062217712\n",
      "    },\n",
      "    {\n",
      "      \"name\": \"affirm\",\n",
      "      \"confidence\": 0.06291888654232025\n",
      "    },\n",
      "    {\n",
      "      \"name\": \"greet\",\n",
      "      \"confidence\": 0.0\n",
      "    },\n",
      "    {\n",
      "      \"name\": \"goodbye\",\n",
      "      \"confidence\": 0.0\n",
      "    }\n",
      "  ],\n",
      "  \"text\": \"I want an 5 star hotel in the west of town\"\n",
      "}\n"
     ]
    }
   ],
   "source": [
    "# Try it out\n",
    "import json\n",
    "print(json.dumps(interpreter.parse(\"I want an 5 star hotel in the west of town\"), indent=2))"
   ]
  },
  {
   "cell_type": "markdown",
   "metadata": {},
   "source": [
    "## 2.\tExercise 1: Creating queries from parameters\n",
    "- Now you're going to implement a more powerful function for querying the hotels database. The goal is to take arguments that can later be specified by other parts of your code.\n",
    "- Specifically, your job here is to define a find_hotels() function which takes a single argument - a dictionary of column names and values - and returns a list of matching hotels from the database."
   ]
  },
  {
   "cell_type": "code",
   "execution_count": 15,
   "metadata": {},
   "outputs": [],
   "source": [
    "import sqlite3"
   ]
  },
  {
   "cell_type": "code",
   "execution_count": 17,
   "metadata": {},
   "outputs": [],
   "source": [
    "# Define find_hotels()\n",
    "def find_hotels(params): # pass param argument in dict format # params = {\"area\": \"south\", \"price\":\"lo\"}\n",
    "    # Create the base query\n",
    "    query = 'SELECT * FROM hotels'\n",
    "    # Add filter clauses for each of the parameters\n",
    "    if len(params) > 0: # 2>0\n",
    "        filters = [\"{}=?\".format(k) for k in params]\n",
    "        print(\"filters:\" ,filters) # ['area=?', 'price=?']\n",
    "        query += \" WHERE \" + \" and \".join(filters) \n",
    "        print(\"query: \",query) # final query is created\n",
    "        \n",
    "    # Create the tuple of values\n",
    "    t = tuple(params.values())  # ['south', 'lo']\n",
    "    print(t)\n",
    "        # Open connection to DB\n",
    "    conn = sqlite3.connect('data/hotels.db')\n",
    "    # Create a cursor\n",
    "    c = conn.cursor()\n",
    "    # Execute the query\n",
    "    c.execute(query, t)\n",
    "    # Return the results\n",
    "    return c.fetchall()"
   ]
  },
  {
   "cell_type": "markdown",
   "metadata": {},
   "source": [
    "## 3. Exercise 2: Using your custom function to find hotels\n",
    "- Here, you're going to put your find_hotels() function into action! Recall that it accepts a single argument, **params**, which is a dictionary of column names and values.\n"
   ]
  },
  {
   "cell_type": "code",
   "execution_count": 18,
   "metadata": {},
   "outputs": [
    {
     "name": "stdout",
     "output_type": "stream",
     "text": [
      "filters: ['area=?', 'price=?']\n",
      "query:  SELECT * FROM hotels WHERE area=? and price=?\n",
      "('south', 'lo')\n",
      "[('Cozy Cottage', 'lo', 'south', 2)]\n"
     ]
    }
   ],
   "source": [
    "# Create the dictionary of column names and values\n",
    "params = {\"area\": \"south\", \"price\":\"lo\"}\n",
    "# Find the hotels that match the parameters\n",
    "print(find_hotels(params))\n"
   ]
  },
  {
   "cell_type": "code",
   "execution_count": 8,
   "metadata": {},
   "outputs": [
    {
     "data": {
      "text/plain": [
       "2"
      ]
     },
     "execution_count": 8,
     "metadata": {},
     "output_type": "execute_result"
    }
   ],
   "source": [
    "len(params)"
   ]
  },
  {
   "cell_type": "code",
   "execution_count": 9,
   "metadata": {},
   "outputs": [
    {
     "data": {
      "text/plain": [
       "dict_values(['south', 'lo'])"
      ]
     },
     "execution_count": 9,
     "metadata": {},
     "output_type": "execute_result"
    }
   ],
   "source": [
    "params.values()"
   ]
  },
  {
   "cell_type": "markdown",
   "metadata": {},
   "source": [
    "## 4. Exercise 3: Creating SQL from natural language\n",
    "- Now you'll write a respond() function which can handle messages like \"I want an expensive hotel in the south of town\" and respond appropriately according to the number of matching results in a database. This is important functionality for any database-backed chatbot.\n",
    "- Your find_hotels() function from the previous exercises has already been defined for you, along with a rasa NLU interpreter object which can handle hotel queries and a list of responses, which you can explore in the Shell."
   ]
  },
  {
   "cell_type": "code",
   "execution_count": 12,
   "metadata": {},
   "outputs": [],
   "source": [
    "# response templates\n",
    "responses = [\"I'm sorry 😂 I couldn't find anything like that\",\n",
    "             '{} is a great hotel!',\n",
    "             '{} or {} would work!',\n",
    "             '{} is one option, but I know others too :)']"
   ]
  },
  {
   "cell_type": "code",
   "execution_count": 11,
   "metadata": {},
   "outputs": [
    {
     "data": {
      "text/plain": [
       "list"
      ]
     },
     "execution_count": 11,
     "metadata": {},
     "output_type": "execute_result"
    }
   ],
   "source": [
    "type(responses)"
   ]
  },
  {
   "cell_type": "code",
   "execution_count": 12,
   "metadata": {},
   "outputs": [
    {
     "data": {
      "text/plain": [
       "\"I'm sorry 😂 I couldn't find anything like that\""
      ]
     },
     "execution_count": 12,
     "metadata": {},
     "output_type": "execute_result"
    }
   ],
   "source": [
    "responses[0]"
   ]
  },
  {
   "cell_type": "code",
   "execution_count": 22,
   "metadata": {},
   "outputs": [],
   "source": [
    "# Define respond()\n",
    "def respond(message): # I want an 5 star hotel in the west of town\n",
    "    # Extract the entities\n",
    "    entities = interpreter.parse(message)[\"entities\"]\n",
    "    print(\"******\",entities,\"***********\")\n",
    "    # Initialize an empty params dictionary\n",
    "    params = {}\n",
    "    # Fill the dictionary with entities\n",
    "    for ent in entities:\n",
    "        params[ent[\"entity\"]] = str(ent[\"value\"])\n",
    "    print(\" Columnnames and values extracted from NLU :{}\".format(params))\n",
    "\n",
    "    # Find hotels that match the dictionary\n",
    "    results = find_hotels(params)\n",
    "    print(\"results from find_hotels function is :{} \".format(results))\n",
    "    # Get the names of the hotels and index of the response\n",
    "    names = [r[0] for r in results]\n",
    "    print(names)    \n",
    "    n = min(len(results),3)\n",
    "    print(n)\n",
    "    # Select the nth element of the responses array\n",
    "    return responses[n].format(*names)"
   ]
  },
  {
   "cell_type": "markdown",
   "metadata": {},
   "source": [
    "## Try it out :)"
   ]
  },
  {
   "cell_type": "code",
   "execution_count": 23,
   "metadata": {},
   "outputs": [
    {
     "name": "stdout",
     "output_type": "stream",
     "text": [
      "****** [{'start': 10, 'end': 11, 'value': '5', 'entity': 'stars', 'confidence': 0.994618347140683, 'extractor': 'CRFEntityExtractor'}, {'start': 30, 'end': 34, 'value': 'west', 'entity': 'area', 'confidence': 0.9111861115971476, 'extractor': 'CRFEntityExtractor'}] ***********\n",
      " Columnnames and values extracted from NLU :{'stars': '5', 'area': 'west'}\n",
      "filters: ['stars=?', 'area=?']\n",
      "query:  SELECT * FROM hotels WHERE stars=? and area=?\n",
      "('5', 'west')\n",
      "results from find_hotels function is :[('The Grand', 'hi', 'west', 5)] \n",
      "['The Grand']\n",
      "1\n",
      "The Grand is a great hotel!\n"
     ]
    }
   ],
   "source": [
    "# Query Database Data based on area    \n",
    "print(respond(\"I want an 5 star hotel in the west of town\"))"
   ]
  },
  {
   "cell_type": "code",
   "execution_count": 14,
   "metadata": {},
   "outputs": [
    {
     "data": {
      "text/html": [
       "<div>\n",
       "<style scoped>\n",
       "    .dataframe tbody tr th:only-of-type {\n",
       "        vertical-align: middle;\n",
       "    }\n",
       "\n",
       "    .dataframe tbody tr th {\n",
       "        vertical-align: top;\n",
       "    }\n",
       "\n",
       "    .dataframe thead th {\n",
       "        text-align: right;\n",
       "    }\n",
       "</style>\n",
       "<table border=\"1\" class=\"dataframe\">\n",
       "  <thead>\n",
       "    <tr style=\"text-align: right;\">\n",
       "      <th></th>\n",
       "      <th>name</th>\n",
       "      <th>price</th>\n",
       "      <th>area</th>\n",
       "      <th>stars</th>\n",
       "    </tr>\n",
       "  </thead>\n",
       "  <tbody>\n",
       "    <tr>\n",
       "      <td>0</td>\n",
       "      <td>Hotel for Dogs</td>\n",
       "      <td>mid</td>\n",
       "      <td>east</td>\n",
       "      <td>3</td>\n",
       "    </tr>\n",
       "    <tr>\n",
       "      <td>1</td>\n",
       "      <td>Hotel California</td>\n",
       "      <td>mid</td>\n",
       "      <td>north</td>\n",
       "      <td>3</td>\n",
       "    </tr>\n",
       "    <tr>\n",
       "      <td>2</td>\n",
       "      <td>Grand Hotel</td>\n",
       "      <td>hi</td>\n",
       "      <td>south</td>\n",
       "      <td>5</td>\n",
       "    </tr>\n",
       "    <tr>\n",
       "      <td>3</td>\n",
       "      <td>Cozy Cottage</td>\n",
       "      <td>lo</td>\n",
       "      <td>south</td>\n",
       "      <td>2</td>\n",
       "    </tr>\n",
       "    <tr>\n",
       "      <td>4</td>\n",
       "      <td>Ben's BnB</td>\n",
       "      <td>hi</td>\n",
       "      <td>north</td>\n",
       "      <td>4</td>\n",
       "    </tr>\n",
       "    <tr>\n",
       "      <td>5</td>\n",
       "      <td>The Grand</td>\n",
       "      <td>hi</td>\n",
       "      <td>west</td>\n",
       "      <td>5</td>\n",
       "    </tr>\n",
       "    <tr>\n",
       "      <td>6</td>\n",
       "      <td>Central Rooms</td>\n",
       "      <td>mid</td>\n",
       "      <td>center</td>\n",
       "      <td>3</td>\n",
       "    </tr>\n",
       "  </tbody>\n",
       "</table>\n",
       "</div>"
      ],
      "text/plain": [
       "               name price    area  stars\n",
       "0    Hotel for Dogs   mid    east      3\n",
       "1  Hotel California   mid   north      3\n",
       "2       Grand Hotel    hi   south      5\n",
       "3      Cozy Cottage    lo   south      2\n",
       "4         Ben's BnB    hi   north      4\n",
       "5         The Grand    hi    west      5\n",
       "6     Central Rooms   mid  center      3"
      ]
     },
     "execution_count": 14,
     "metadata": {},
     "output_type": "execute_result"
    }
   ],
   "source": [
    "# Observe database data\n",
    "df"
   ]
  },
  {
   "cell_type": "code",
   "execution_count": 16,
   "metadata": {},
   "outputs": [
    {
     "name": "stdout",
     "output_type": "stream",
     "text": [
      " Columnnames and values extracted from NLU :{'stars': '5', 'area': 'north'}\n",
      "filters: ['stars=?', 'area=?']\n",
      "query:  SELECT * FROM hotels WHERE stars=? and area=?\n",
      "('5', 'north')\n",
      "results from find_hotels function is :[] \n",
      "[]\n",
      "0\n",
      "I'm sorry 😂 I couldn't find anything like that\n"
     ]
    }
   ],
   "source": [
    "# Query Database Data based on area    \n",
    "print(respond(\"I want an 5 star hotel in the north of town\"))"
   ]
  },
  {
   "cell_type": "code",
   "execution_count": 17,
   "metadata": {},
   "outputs": [
    {
     "name": "stdout",
     "output_type": "stream",
     "text": [
      " Columnnames and values extracted from NLU :{'area': 'north'}\n",
      "filters: ['area=?']\n",
      "query:  SELECT * FROM hotels WHERE area=?\n",
      "('north',)\n",
      "results from find_hotels function is :[('Hotel California', 'mid', 'north', 3), (\"Ben's BnB\", 'hi', 'north', 4)] \n",
      "['Hotel California', \"Ben's BnB\"]\n",
      "2\n",
      "Hotel California or Ben's BnB would work!\n"
     ]
    }
   ],
   "source": [
    "# Query Database Data based on area    \n",
    "print(respond(\"I want a hotel in the north of town\"))"
   ]
  },
  {
   "cell_type": "code",
   "execution_count": 18,
   "metadata": {},
   "outputs": [
    {
     "name": "stdout",
     "output_type": "stream",
     "text": [
      " Columnnames and values extracted from NLU :{'stars': '3'}\n",
      "filters: ['stars=?']\n",
      "query:  SELECT * FROM hotels WHERE stars=?\n",
      "('3',)\n",
      "results from find_hotels function is :[('Hotel for Dogs', 'mid', 'east', 3), ('Hotel California', 'mid', 'north', 3), ('Central Rooms', 'mid', 'center', 3)] \n",
      "['Hotel for Dogs', 'Hotel California', 'Central Rooms']\n",
      "3\n",
      "Hotel for Dogs is one option, but I know others too :)\n"
     ]
    }
   ],
   "source": [
    "# Query Database Data based on area    \n",
    "print(respond(\"I want a 3 star hotel\"))"
   ]
  },
  {
   "cell_type": "markdown",
   "metadata": {},
   "source": [
    "# Incremental Slot Filling\n",
    "------\n",
    "- Incremental Filters\n"
   ]
  },
  {
   "cell_type": "markdown",
   "metadata": {},
   "source": [
    "## Exercise 1: Refining your search"
   ]
  },
  {
   "cell_type": "markdown",
   "metadata": {},
   "source": [
    "- Now you'll write a bot that allows users to add filters incrementally, in case they don't specify all of their preferences in one message.\n",
    "- To do this, initialize an empty dictionary params outside of your respond() function (unlike inside the function, like in the previous exercise). Your respond() function will take in this dictionary as an argument."
   ]
  },
  {
   "cell_type": "code",
   "execution_count": 21,
   "metadata": {},
   "outputs": [],
   "source": [
    "# Define a respond function, taking the message and existing params as input\n",
    "def respond(message, params):\n",
    "    # Extract the entities\n",
    "    entities = interpreter.parse(message)[\"entities\"]\n",
    "    # Fill the dictionary with entities\n",
    "    for ent in entities:\n",
    "        params[ent[\"entity\"]] = str(ent[\"value\"])\n",
    "    # Find the hotels\n",
    "    results = find_hotels(params)\n",
    "    names = [r[0] for r in results]\n",
    "    n = min(len(results), 3)\n",
    "    # Return the appropriate response\n",
    "    return responses[n].format(*names), params"
   ]
  },
  {
   "cell_type": "code",
   "execution_count": 22,
   "metadata": {},
   "outputs": [
    {
     "name": "stdout",
     "output_type": "stream",
     "text": [
      "USER: in the north of town\n",
      "filters: ['area=?']\n",
      "query:  SELECT * FROM hotels WHERE area=?\n",
      "('north',)\n",
      "BOT: Hotel California or Ben's BnB would work!\n",
      "USER: I want an 3 star hotel\n",
      "filters: ['area=?', 'stars=?']\n",
      "query:  SELECT * FROM hotels WHERE area=? and stars=?\n",
      "('north', '3')\n",
      "BOT: Hotel California is a great hotel!\n"
     ]
    }
   ],
   "source": [
    "# Initialize params dictionary\n",
    "params = {}\n",
    "# Pass the messages to the bot\n",
    "for message in [\"in the north of town\",\"I want an 3 star hotel\"]:\n",
    "    print(\"USER: {}\".format(message))\n",
    "    response, params = respond(message, params)\n",
    "    print(\"BOT: {}\".format(response))"
   ]
  },
  {
   "cell_type": "code",
   "execution_count": 23,
   "metadata": {},
   "outputs": [
    {
     "data": {
      "text/html": [
       "<div>\n",
       "<style scoped>\n",
       "    .dataframe tbody tr th:only-of-type {\n",
       "        vertical-align: middle;\n",
       "    }\n",
       "\n",
       "    .dataframe tbody tr th {\n",
       "        vertical-align: top;\n",
       "    }\n",
       "\n",
       "    .dataframe thead th {\n",
       "        text-align: right;\n",
       "    }\n",
       "</style>\n",
       "<table border=\"1\" class=\"dataframe\">\n",
       "  <thead>\n",
       "    <tr style=\"text-align: right;\">\n",
       "      <th></th>\n",
       "      <th>name</th>\n",
       "      <th>price</th>\n",
       "      <th>area</th>\n",
       "      <th>stars</th>\n",
       "    </tr>\n",
       "  </thead>\n",
       "  <tbody>\n",
       "    <tr>\n",
       "      <td>0</td>\n",
       "      <td>Hotel for Dogs</td>\n",
       "      <td>mid</td>\n",
       "      <td>east</td>\n",
       "      <td>3</td>\n",
       "    </tr>\n",
       "    <tr>\n",
       "      <td>1</td>\n",
       "      <td>Hotel California</td>\n",
       "      <td>mid</td>\n",
       "      <td>north</td>\n",
       "      <td>3</td>\n",
       "    </tr>\n",
       "    <tr>\n",
       "      <td>2</td>\n",
       "      <td>Grand Hotel</td>\n",
       "      <td>hi</td>\n",
       "      <td>south</td>\n",
       "      <td>5</td>\n",
       "    </tr>\n",
       "    <tr>\n",
       "      <td>3</td>\n",
       "      <td>Cozy Cottage</td>\n",
       "      <td>lo</td>\n",
       "      <td>south</td>\n",
       "      <td>2</td>\n",
       "    </tr>\n",
       "    <tr>\n",
       "      <td>4</td>\n",
       "      <td>Ben's BnB</td>\n",
       "      <td>hi</td>\n",
       "      <td>north</td>\n",
       "      <td>4</td>\n",
       "    </tr>\n",
       "    <tr>\n",
       "      <td>5</td>\n",
       "      <td>The Grand</td>\n",
       "      <td>hi</td>\n",
       "      <td>west</td>\n",
       "      <td>5</td>\n",
       "    </tr>\n",
       "    <tr>\n",
       "      <td>6</td>\n",
       "      <td>Central Rooms</td>\n",
       "      <td>mid</td>\n",
       "      <td>center</td>\n",
       "      <td>3</td>\n",
       "    </tr>\n",
       "  </tbody>\n",
       "</table>\n",
       "</div>"
      ],
      "text/plain": [
       "               name price    area  stars\n",
       "0    Hotel for Dogs   mid    east      3\n",
       "1  Hotel California   mid   north      3\n",
       "2       Grand Hotel    hi   south      5\n",
       "3      Cozy Cottage    lo   south      2\n",
       "4         Ben's BnB    hi   north      4\n",
       "5         The Grand    hi    west      5\n",
       "6     Central Rooms   mid  center      3"
      ]
     },
     "execution_count": 23,
     "metadata": {},
     "output_type": "execute_result"
    }
   ],
   "source": [
    "df"
   ]
  },
  {
   "cell_type": "code",
   "execution_count": null,
   "metadata": {},
   "outputs": [],
   "source": []
  }
 ],
 "metadata": {
  "kernelspec": {
   "display_name": "Python 3",
   "language": "python",
   "name": "python3"
  },
  "language_info": {
   "codemirror_mode": {
    "name": "ipython",
    "version": 3
   },
   "file_extension": ".py",
   "mimetype": "text/x-python",
   "name": "python",
   "nbconvert_exporter": "python",
   "pygments_lexer": "ipython3",
   "version": "3.6.9"
  }
 },
 "nbformat": 4,
 "nbformat_minor": 4
}
