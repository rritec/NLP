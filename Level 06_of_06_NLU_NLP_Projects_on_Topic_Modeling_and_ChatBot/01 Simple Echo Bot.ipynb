{
 "cells": [
  {
   "cell_type": "markdown",
   "metadata": {
    "colab_type": "text",
    "id": "ln9M_NFGFiWc"
   },
   "source": [
    "# Level 08 of 08: Projects on NLU/NLP(Chat Bot)\n",
    "-------------------\n",
    "## 1. Introduction\n",
    "- Conversational software is not a new idea .refer [ELIZA ChatBot]( https://en.wikipedia.org/wiki/ELIZA)"
   ]
  },
  {
   "cell_type": "markdown",
   "metadata": {
    "colab_type": "text",
    "id": "IX5QTtmFFiWc"
   },
   "source": [
    "## Exercise 1: Echo Bot"
   ]
  },
  {
   "cell_type": "code",
   "execution_count": 1,
   "metadata": {
    "colab": {},
    "colab_type": "code",
    "id": "I5aak1gGFiWc"
   },
   "outputs": [],
   "source": [
    "# Define a function that responds to a user's message: respond\n",
    "def respond(message):\n",
    "    # Concatenate the user's message to the end of a standard bot respone\n",
    "    bot_message = \"I can hear you! You said: \" + message\n",
    "    # Return the result\n",
    "    return bot_message"
   ]
  },
  {
   "cell_type": "code",
   "execution_count": 2,
   "metadata": {
    "colab": {},
    "colab_type": "code",
    "id": "5vjudts-FiW8",
    "outputId": "be09a583-a8f1-4e44-a670-4eeae1e65737"
   },
   "outputs": [
    {
     "data": {
      "text/plain": [
       "'I can hear you! You said: Hi'"
      ]
     },
     "execution_count": 2,
     "metadata": {},
     "output_type": "execute_result"
    }
   ],
   "source": [
    "respond(\"Hi\")"
   ]
  },
  {
   "cell_type": "code",
   "execution_count": 3,
   "metadata": {
    "colab": {},
    "colab_type": "code",
    "id": "ki0bWayCFiXb",
    "outputId": "71ab7a25-c114-476f-835b-b67dacb18bcf"
   },
   "outputs": [
    {
     "data": {
      "text/plain": [
       "'I can hear you! You said: Hello'"
      ]
     },
     "execution_count": 3,
     "metadata": {},
     "output_type": "execute_result"
    }
   ],
   "source": [
    "respond(\"Hello\")"
   ]
  },
  {
   "cell_type": "markdown",
   "metadata": {
    "colab_type": "text",
    "id": "OLCNP4ZAFiXr"
   },
   "source": [
    "**============    or   ===============**"
   ]
  },
  {
   "cell_type": "code",
   "execution_count": 1,
   "metadata": {
    "colab": {},
    "colab_type": "code",
    "id": "2WNTFSnPFiX6"
   },
   "outputs": [],
   "source": [
    "def respond1(message):\n",
    "    return f\"I can hear you! you said: {message}\""
   ]
  },
  {
   "cell_type": "code",
   "execution_count": 2,
   "metadata": {
    "colab": {},
    "colab_type": "code",
    "id": "OKKURRStFiX6",
    "outputId": "8a4ff574-2aa4-4f06-8b60-28129f942754"
   },
   "outputs": [
    {
     "data": {
      "text/plain": [
       "'I can hear you! you said: hello'"
      ]
     },
     "execution_count": 2,
     "metadata": {},
     "output_type": "execute_result"
    }
   ],
   "source": [
    "respond1(\"hello\")"
   ]
  },
  {
   "cell_type": "markdown",
   "metadata": {
    "colab_type": "text",
    "id": "01TIjEjGFiYK"
   },
   "source": [
    "## 2.\tExercise 2: Call EchoBot Function"
   ]
  },
  {
   "cell_type": "code",
   "execution_count": 1,
   "metadata": {
    "colab": {},
    "colab_type": "code",
    "id": "uNm662xDFiYK"
   },
   "outputs": [],
   "source": [
    "bot_template = \"BOT : {0}\"\n",
    "user_template = \"USER : {0}\""
   ]
  },
  {
   "cell_type": "code",
   "execution_count": 2,
   "metadata": {
    "colab": {},
    "colab_type": "code",
    "id": "ky1d9V2bFiYZ",
    "outputId": "a35fa858-c8a8-4259-c5f4-47c862634d97"
   },
   "outputs": [
    {
     "data": {
      "text/plain": [
       "'BOT : {0}'"
      ]
     },
     "execution_count": 2,
     "metadata": {},
     "output_type": "execute_result"
    }
   ],
   "source": [
    "bot_template"
   ]
  },
  {
   "cell_type": "code",
   "execution_count": 3,
   "metadata": {
    "colab": {},
    "colab_type": "code",
    "id": "YEdvom3UFiYp",
    "outputId": "95e1ab19-8c19-4bff-a80c-a4588a3a8219"
   },
   "outputs": [
    {
     "data": {
      "text/plain": [
       "'USER : {0}'"
      ]
     },
     "execution_count": 3,
     "metadata": {},
     "output_type": "execute_result"
    }
   ],
   "source": [
    "user_template"
   ]
  },
  {
   "cell_type": "code",
   "execution_count": 9,
   "metadata": {
    "colab": {},
    "colab_type": "code",
    "id": "HuEhSNEkFiZI"
   },
   "outputs": [],
   "source": [
    "# Define a function that sends a message to the bot: send_message\n",
    "def send_message(message): # hello\n",
    "    # Print user_template including the user_message\n",
    "    print(user_template.format(message)) # USER : hello\n",
    "    # Get the bot's response to the message\n",
    "    response = respond(message) #I can hear you! you said: hello\n",
    "    # Wait 2 secs and Print the bot template including the bot's response.\n",
    "    import time\n",
    "    time.sleep(2)\n",
    "    print(bot_template.format(response)) # BOT : I can hear you! you said: hello"
   ]
  },
  {
   "cell_type": "code",
   "execution_count": 10,
   "metadata": {
    "colab": {},
    "colab_type": "code",
    "id": "VIdM9PSLFiZI",
    "outputId": "99e779a9-680d-433b-f5b5-4b6b411729d6"
   },
   "outputs": [
    {
     "name": "stdout",
     "output_type": "stream",
     "text": [
      "USER : hello\n",
      "BOT : I can hear you! You said: hello\n"
     ]
    }
   ],
   "source": [
    "# Send a message to the bot\n",
    "send_message(\"hello\")"
   ]
  },
  {
   "cell_type": "code",
   "execution_count": 11,
   "metadata": {
    "colab": {},
    "colab_type": "code",
    "id": "7CM2enR1FiZY",
    "outputId": "ad074ed1-9a4d-4337-a37c-2c4a790bc7e1"
   },
   "outputs": [
    {
     "name": "stdout",
     "output_type": "stream",
     "text": [
      "USER : hi \n",
      "BOT : I can hear you! You said: hi \n"
     ]
    }
   ],
   "source": [
    "# Send a message to the bot\n",
    "send_message(\"hi \")"
   ]
  },
  {
   "cell_type": "code",
   "execution_count": null,
   "metadata": {},
   "outputs": [],
   "source": []
  }
 ],
 "metadata": {
  "colab": {
   "name": "01 Simple Echo Bot.ipynb",
   "provenance": [],
   "version": "0.3.2"
  },
  "kernelspec": {
   "display_name": "Python 3",
   "language": "python",
   "name": "python3"
  },
  "language_info": {
   "codemirror_mode": {
    "name": "ipython",
    "version": 3
   },
   "file_extension": ".py",
   "mimetype": "text/x-python",
   "name": "python",
   "nbconvert_exporter": "python",
   "pygments_lexer": "ipython3",
   "version": "3.6.9"
  }
 },
 "nbformat": 4,
 "nbformat_minor": 4
}
