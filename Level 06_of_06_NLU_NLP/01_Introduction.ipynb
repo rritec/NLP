{
 "cells": [
  {
   "cell_type": "markdown",
   "metadata": {},
   "source": [
    "# `Natural Language` Understanding/Processing (NLU/P)\n",
    "---------\n",
    "## 1. Introduction\n",
    "- NLP is a way for computers to analyse, understand, and derive meaning from human language in a smart and useful way. \n",
    "- By utilizing NLP, developers can organize and structure knowledge to perform tasks such as automatic summarization, translation, named entity recognition, relationship extraction, sentiment analysis, speech recognition, and topic segmentation.\n",
    "- Summarize blocks of text using Summarizer to extract the most important and central ideas while ignoring irrelevant information. \n",
    "- Create a chat bot using [Parsey McParseface](https://ai.googleblog.com/2016/05/announcing-syntaxnet-worlds-most.html), a language parsing deep learning model made by Google that uses Point-of-Speech tagging.\n",
    "- Automatically generate keyword tags from content using AutoTag, which leverages LDA, a technique that discovers topics contained within a body of text.\n",
    "- Identify the type of entity extracted, such as it being a person, place, or organization using Named Entity Recognition.\n",
    "- Use Sentiment Analysis to identify the sentiment of a string of text, from very negative to neutral to very positive.\n",
    "- Reduce words to their root, or stem, or break up text into tokens using Tokenizer"
   ]
  },
  {
   "cell_type": "markdown",
   "metadata": {},
   "source": [
    "## 2. Example Applications\n",
    "- [Google DialogFlow](https://dialogflow.com/)(Listen Below Video)\n",
    "- [Face book Wit Application](https://labs.wit.ai/demo/index.html)(click and Play some Time :) )\n",
    "- [Microsoft luis](https://www.luis.ai/home)(Observe all use cases)\n",
    "- [rasa](https://rasa.com/)(Develop AI products similar to above using open Source)\n"
   ]
  },
  {
   "cell_type": "markdown",
   "metadata": {
    "collapsed": true
   },
   "source": [
    "Listen Small video\n",
    "[![IMAGE ALT TEXT HERE](http://img.youtube.com/vi/yT58gTXdQb8/0.jpg)](http://www.youtube.com/watch?v=yT58gTXdQb8)"
   ]
  },
  {
   "cell_type": "code",
   "execution_count": null,
   "metadata": {
    "collapsed": true
   },
   "outputs": [],
   "source": []
  }
 ],
 "metadata": {
  "kernelspec": {
   "display_name": "Python 3",
   "language": "python",
   "name": "python3"
  },
  "language_info": {
   "codemirror_mode": {
    "name": "ipython",
    "version": 3
   },
   "file_extension": ".py",
   "mimetype": "text/x-python",
   "name": "python",
   "nbconvert_exporter": "python",
   "pygments_lexer": "ipython3",
   "version": "3.6.9"
  }
 },
 "nbformat": 4,
 "nbformat_minor": 2
}
